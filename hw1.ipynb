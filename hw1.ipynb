{
 "cells": [
  {
   "cell_type": "code",
   "execution_count": 1,
   "metadata": {
    "collapsed": false
   },
   "outputs": [
    {
     "name": "stdout",
     "output_type": "stream",
     "text": [
      "IPython console for SymPy 1.0 (Python 3.5.1-64-bit) (ground types: gmpy)\n"
     ]
    }
   ],
   "source": [
    "%matplotlib inline\n",
    "import matplotlib.pyplot as plt\n",
    "\n",
    "import numpy as np\n",
    "\n",
    "from numpy.linalg import cond as cond\n",
    "from numpy.linalg import solve as gauss\n",
    "\n",
    "from sympy import init_session\n",
    "init_session(quiet=True)"
   ]
  },
  {
   "cell_type": "markdown",
   "metadata": {},
   "source": [
    "# Matrix `Cond`\n",
    "## Good condition matrix"
   ]
  },
  {
   "cell_type": "code",
   "execution_count": 2,
   "metadata": {
    "collapsed": false
   },
   "outputs": [
    {
     "data": {
      "image/png": "[encoded data removed]",
      "text/latex": [
       "$$\\left[\\begin{matrix}55 & 1 & 2 & 3\\\\3 & 55 & 2 & 1\\\\4 & 2 & 55 & 6\\\\7 & 1 & 4 & 55\\end{matrix}\\right]$$"
      ],
      "text/plain": [
       "⎡55  1   2   3 ⎤\n",
       "⎢              ⎥\n",
       "⎢3   55  2   1 ⎥\n",
       "⎢              ⎥\n",
       "⎢4   2   55  6 ⎥\n",
       "⎢              ⎥\n",
       "⎣7   1   4   55⎦"
      ]
     },
     "execution_count": 2,
     "metadata": {},
     "output_type": "execute_result"
    }
   ],
   "source": [
    "good_cond_matrix_plt = Matrix([\n",
    "    [55,  1,   2,   3],\n",
    "    [3,   55,  2,   1],\n",
    "    [4,   2,   55,  6],\n",
    "    [7,   1,   4,  55]\n",
    "])\n",
    "\n",
    "good_cond_matrix = np.mat('''\n",
    "    [55  1   2   3;\n",
    "     3   55  2   1;\n",
    "     4   2   55  6;\n",
    "     7   1   4  55]\n",
    "''')\n",
    "\n",
    "good_cond_matrix_plt"
   ]
  },
  {
   "cell_type": "markdown",
   "metadata": {},
   "source": [
    "Good condition matrix has small `Cond` value:"
   ]
  },
  {
   "cell_type": "code",
   "execution_count": 3,
   "metadata": {
    "collapsed": false
   },
   "outputs": [
    {
     "data": {
      "image/png": "[encoded data removed]",
      "text/latex": [
       "$$1.31601550768$$"
      ],
      "text/plain": [
       "1.31601550768"
      ]
     },
     "execution_count": 3,
     "metadata": {},
     "output_type": "execute_result"
    }
   ],
   "source": [
    "cond(good_cond_matrix)"
   ]
  },
  {
   "cell_type": "markdown",
   "metadata": {},
   "source": [
    "## Bad condition matrix\n",
    "### Hilbert matrix"
   ]
  },
  {
   "cell_type": "code",
   "execution_count": 4,
   "metadata": {
    "collapsed": false
   },
   "outputs": [
    {
     "data": {
      "image/png": "[encoded data removed]",
      "text/latex": [
       "$$\\left[\\begin{matrix}1 & \\frac{1}{2} & \\frac{1}{3} & \\frac{1}{4} & \\frac{1}{5}\\\\\\frac{1}{2} & \\frac{1}{3} & \\frac{1}{4} & \\frac{1}{5} & \\frac{1}{6}\\\\\\frac{1}{3} & \\frac{1}{4} & \\frac{1}{5} & \\frac{1}{6} & \\frac{1}{7}\\\\\\frac{1}{4} & \\frac{1}{5} & \\frac{1}{6} & \\frac{1}{7} & \\frac{1}{8}\\\\\\frac{1}{5} & \\frac{1}{6} & \\frac{1}{7} & \\frac{1}{8} & \\frac{1}{9}\\end{matrix}\\right]$$"
      ],
      "text/plain": [
       "⎡ 1   1/2  1/3  1/4  1/5⎤\n",
       "⎢                       ⎥\n",
       "⎢1/2  1/3  1/4  1/5  1/6⎥\n",
       "⎢                       ⎥\n",
       "⎢1/3  1/4  1/5  1/6  1/7⎥\n",
       "⎢                       ⎥\n",
       "⎢1/4  1/5  1/6  1/7  1/8⎥\n",
       "⎢                       ⎥\n",
       "⎣1/5  1/6  1/7  1/8  1/9⎦"
      ]
     },
     "execution_count": 4,
     "metadata": {},
     "output_type": "execute_result"
    }
   ],
   "source": [
    "n = 5\n",
    "\n",
    "hilbert_matrix_plt = Matrix(\n",
    "    [[Rational(1, i + j - 1) for j in range(1, n+1)] for i in range(1, n+1)]\n",
    ")\n",
    "\n",
    "hilbert_matrix = [[1. /  (i + j - 1) for j in range(1, n+1)] for i in range(1, n+1)]\n",
    "\n",
    "hilbert_matrix_plt"
   ]
  },
  {
   "cell_type": "markdown",
   "metadata": {},
   "source": [
    "Bad condition matrix has large `Cond` value:"
   ]
  },
  {
   "cell_type": "code",
   "execution_count": 5,
   "metadata": {
    "collapsed": false
   },
   "outputs": [
    {
     "data": {
      "image/png": "[encoded data removed]",
      "text/latex": [
       "$$476607.250242$$"
      ],
      "text/plain": [
       "476607.250242"
      ]
     },
     "execution_count": 5,
     "metadata": {},
     "output_type": "execute_result"
    }
   ],
   "source": [
    "cond(hilbert_matrix)"
   ]
  },
  {
   "cell_type": "markdown",
   "metadata": {},
   "source": [
    "## Linear equation solution\n",
    "### Gauss"
   ]
  },
  {
   "cell_type": "code",
   "execution_count": 6,
   "metadata": {
    "collapsed": false
   },
   "outputs": [
    {
     "data": {
      "image/png": "[encoded data removed]",
      "text/latex": [
       "$$\\left[\\begin{matrix}1\\\\-2\\\\12\\\\30\\end{matrix}\\right]$$"
      ],
      "text/plain": [
       "⎡1 ⎤\n",
       "⎢  ⎥\n",
       "⎢-2⎥\n",
       "⎢  ⎥\n",
       "⎢12⎥\n",
       "⎢  ⎥\n",
       "⎣30⎦"
      ]
     },
     "execution_count": 6,
     "metadata": {},
     "output_type": "execute_result"
    }
   ],
   "source": [
    "good_constant_terms = [1, -2, 12, 30]\n",
    "\n",
    "Matrix(good_constant_terms)"
   ]
  },
  {
   "cell_type": "code",
   "execution_count": 7,
   "metadata": {
    "collapsed": false
   },
   "outputs": [
    {
     "data": {
      "image/png": "[encoded data removed]",
      "text/latex": [
       "$$\\left[\\begin{matrix}1\\\\-1\\\\2\\\\-3\\\\4\\end{matrix}\\right]$$"
      ],
      "text/plain": [
       "⎡1 ⎤\n",
       "⎢  ⎥\n",
       "⎢-1⎥\n",
       "⎢  ⎥\n",
       "⎢2 ⎥\n",
       "⎢  ⎥\n",
       "⎢-3⎥\n",
       "⎢  ⎥\n",
       "⎣4 ⎦"
      ]
     },
     "execution_count": 7,
     "metadata": {},
     "output_type": "execute_result"
    }
   ],
   "source": [
    "bad_constant_terms = [1, -1, 2, -3, 4]\n",
    "\n",
    "Matrix(bad_constant_terms)"
   ]
  },
  {
   "cell_type": "code",
   "execution_count": 8,
   "metadata": {
    "collapsed": false
   },
   "outputs": [
    {
     "data": {
      "image/png": "[encoded data removed]",
      "text/latex": [
       "$$\\left[\\begin{matrix}-0.0160724678109484\\\\-0.0511586899967292\\\\0.16267291003999\\\\0.536599533172971\\end{matrix}\\right]$$"
      ],
      "text/plain": [
       "⎡-0.0160724678109484⎤\n",
       "⎢                   ⎥\n",
       "⎢-0.0511586899967292⎥\n",
       "⎢                   ⎥\n",
       "⎢ 0.16267291003999  ⎥\n",
       "⎢                   ⎥\n",
       "⎣ 0.536599533172971 ⎦"
      ]
     },
     "execution_count": 8,
     "metadata": {},
     "output_type": "execute_result"
    }
   ],
   "source": [
    "good = gauss(good_cond_matrix, good_constant_terms)\n",
    "\n",
    "Matrix(good)"
   ]
  },
  {
   "cell_type": "code",
   "execution_count": 9,
   "metadata": {
    "collapsed": false
   },
   "outputs": [
    {
     "data": {
      "image/png": "[encoded data removed]",
      "text/latex": [
       "$$\\left[\\begin{matrix}9144.99999999651\\\\-173939.999999963\\\\758309.999999913\\\\-1153879.99999994\\\\567629.999999997\\end{matrix}\\right]$$"
      ],
      "text/plain": [
       "⎡9144.99999999651 ⎤\n",
       "⎢                 ⎥\n",
       "⎢-173939.999999963⎥\n",
       "⎢                 ⎥\n",
       "⎢758309.999999913 ⎥\n",
       "⎢                 ⎥\n",
       "⎢-1153879.99999994⎥\n",
       "⎢                 ⎥\n",
       "⎣567629.999999997 ⎦"
      ]
     },
     "execution_count": 9,
     "metadata": {},
     "output_type": "execute_result"
    }
   ],
   "source": [
    "bad = gauss(hilbert_matrix, bad_constant_terms)\n",
    "\n",
    "Matrix(bad)"
   ]
  },
  {
   "cell_type": "code",
   "execution_count": null,
   "metadata": {
    "collapsed": true
   },
   "outputs": [],
   "source": []
  }
 ],
 "metadata": {
  "kernelspec": {
   "display_name": "Python 3",
   "language": "python",
   "name": "python3"
  },
  "language_info": {
   "codemirror_mode": {
    "name": "ipython",
    "version": 3
   },
   "file_extension": ".py",
   "mimetype": "text/x-python",
   "name": "python",
   "nbconvert_exporter": "python",
   "pygments_lexer": "ipython3",
   "version": "3.5.1"
  }
 },
 "nbformat": 4,
 "nbformat_minor": 0
}
